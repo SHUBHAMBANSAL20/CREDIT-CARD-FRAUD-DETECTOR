{
 "cells": [
  {
   "cell_type": "code",
   "execution_count": 2,
   "metadata": {},
   "outputs": [],
   "source": [
    "import sys\n",
    "import numpy \n",
    "import pandas \n",
    "import matplotlib\n",
    "import scipy\n",
    "import seaborn"
   ]
  },
  {
   "cell_type": "code",
   "execution_count": 3,
   "metadata": {},
   "outputs": [
    {
     "name": "stdout",
     "output_type": "stream",
     "text": [
      "3.6.5 |Anaconda, Inc.| (default, Mar 29 2018, 13:23:52) [MSC v.1900 32 bit (Intel)]\n"
     ]
    }
   ],
   "source": [
    "print(sys.version)"
   ]
  },
  {
   "cell_type": "code",
   "execution_count": 4,
   "metadata": {},
   "outputs": [
    {
     "name": "stdout",
     "output_type": "stream",
     "text": [
      "numpy 1.14.3\n"
     ]
    }
   ],
   "source": [
    "print(\"numpy\",numpy.__version__)"
   ]
  },
  {
   "cell_type": "code",
   "execution_count": 6,
   "metadata": {},
   "outputs": [],
   "source": [
    "import numpy as np\n",
    "import pandas as pd\n",
    "import matplotlib.pyplot as plt\n",
    "import seaborn as sns\n"
   ]
  },
  {
   "cell_type": "code",
   "execution_count": 10,
   "metadata": {},
   "outputs": [],
   "source": [
    "df = pd.read_csv('creditcard.csv')"
   ]
  },
  {
   "cell_type": "code",
   "execution_count": 11,
   "metadata": {},
   "outputs": [
    {
     "data": {
      "text/html": [
       "<div>\n",
       "<style scoped>\n",
       "    .dataframe tbody tr th:only-of-type {\n",
       "        vertical-align: middle;\n",
       "    }\n",
       "\n",
       "    .dataframe tbody tr th {\n",
       "        vertical-align: top;\n",
       "    }\n",
       "\n",
       "    .dataframe thead th {\n",
       "        text-align: right;\n",
       "    }\n",
       "</style>\n",
       "<table border=\"1\" class=\"dataframe\">\n",
       "  <thead>\n",
       "    <tr style=\"text-align: right;\">\n",
       "      <th></th>\n",
       "      <th>Time</th>\n",
       "      <th>V1</th>\n",
       "      <th>V2</th>\n",
       "      <th>V3</th>\n",
       "      <th>V4</th>\n",
       "      <th>V5</th>\n",
       "      <th>V6</th>\n",
       "      <th>V7</th>\n",
       "      <th>V8</th>\n",
       "      <th>V9</th>\n",
       "      <th>...</th>\n",
       "      <th>V21</th>\n",
       "      <th>V22</th>\n",
       "      <th>V23</th>\n",
       "      <th>V24</th>\n",
       "      <th>V25</th>\n",
       "      <th>V26</th>\n",
       "      <th>V27</th>\n",
       "      <th>V28</th>\n",
       "      <th>Amount</th>\n",
       "      <th>Class</th>\n",
       "    </tr>\n",
       "  </thead>\n",
       "  <tbody>\n",
       "    <tr>\n",
       "      <th>0</th>\n",
       "      <td>0.0</td>\n",
       "      <td>-1.359807</td>\n",
       "      <td>-0.072781</td>\n",
       "      <td>2.536347</td>\n",
       "      <td>1.378155</td>\n",
       "      <td>-0.338321</td>\n",
       "      <td>0.462388</td>\n",
       "      <td>0.239599</td>\n",
       "      <td>0.098698</td>\n",
       "      <td>0.363787</td>\n",
       "      <td>...</td>\n",
       "      <td>-0.018307</td>\n",
       "      <td>0.277838</td>\n",
       "      <td>-0.110474</td>\n",
       "      <td>0.066928</td>\n",
       "      <td>0.128539</td>\n",
       "      <td>-0.189115</td>\n",
       "      <td>0.133558</td>\n",
       "      <td>-0.021053</td>\n",
       "      <td>149.62</td>\n",
       "      <td>0</td>\n",
       "    </tr>\n",
       "    <tr>\n",
       "      <th>1</th>\n",
       "      <td>0.0</td>\n",
       "      <td>1.191857</td>\n",
       "      <td>0.266151</td>\n",
       "      <td>0.166480</td>\n",
       "      <td>0.448154</td>\n",
       "      <td>0.060018</td>\n",
       "      <td>-0.082361</td>\n",
       "      <td>-0.078803</td>\n",
       "      <td>0.085102</td>\n",
       "      <td>-0.255425</td>\n",
       "      <td>...</td>\n",
       "      <td>-0.225775</td>\n",
       "      <td>-0.638672</td>\n",
       "      <td>0.101288</td>\n",
       "      <td>-0.339846</td>\n",
       "      <td>0.167170</td>\n",
       "      <td>0.125895</td>\n",
       "      <td>-0.008983</td>\n",
       "      <td>0.014724</td>\n",
       "      <td>2.69</td>\n",
       "      <td>0</td>\n",
       "    </tr>\n",
       "    <tr>\n",
       "      <th>2</th>\n",
       "      <td>1.0</td>\n",
       "      <td>-1.358354</td>\n",
       "      <td>-1.340163</td>\n",
       "      <td>1.773209</td>\n",
       "      <td>0.379780</td>\n",
       "      <td>-0.503198</td>\n",
       "      <td>1.800499</td>\n",
       "      <td>0.791461</td>\n",
       "      <td>0.247676</td>\n",
       "      <td>-1.514654</td>\n",
       "      <td>...</td>\n",
       "      <td>0.247998</td>\n",
       "      <td>0.771679</td>\n",
       "      <td>0.909412</td>\n",
       "      <td>-0.689281</td>\n",
       "      <td>-0.327642</td>\n",
       "      <td>-0.139097</td>\n",
       "      <td>-0.055353</td>\n",
       "      <td>-0.059752</td>\n",
       "      <td>378.66</td>\n",
       "      <td>0</td>\n",
       "    </tr>\n",
       "    <tr>\n",
       "      <th>3</th>\n",
       "      <td>1.0</td>\n",
       "      <td>-0.966272</td>\n",
       "      <td>-0.185226</td>\n",
       "      <td>1.792993</td>\n",
       "      <td>-0.863291</td>\n",
       "      <td>-0.010309</td>\n",
       "      <td>1.247203</td>\n",
       "      <td>0.237609</td>\n",
       "      <td>0.377436</td>\n",
       "      <td>-1.387024</td>\n",
       "      <td>...</td>\n",
       "      <td>-0.108300</td>\n",
       "      <td>0.005274</td>\n",
       "      <td>-0.190321</td>\n",
       "      <td>-1.175575</td>\n",
       "      <td>0.647376</td>\n",
       "      <td>-0.221929</td>\n",
       "      <td>0.062723</td>\n",
       "      <td>0.061458</td>\n",
       "      <td>123.50</td>\n",
       "      <td>0</td>\n",
       "    </tr>\n",
       "    <tr>\n",
       "      <th>4</th>\n",
       "      <td>2.0</td>\n",
       "      <td>-1.158233</td>\n",
       "      <td>0.877737</td>\n",
       "      <td>1.548718</td>\n",
       "      <td>0.403034</td>\n",
       "      <td>-0.407193</td>\n",
       "      <td>0.095921</td>\n",
       "      <td>0.592941</td>\n",
       "      <td>-0.270533</td>\n",
       "      <td>0.817739</td>\n",
       "      <td>...</td>\n",
       "      <td>-0.009431</td>\n",
       "      <td>0.798278</td>\n",
       "      <td>-0.137458</td>\n",
       "      <td>0.141267</td>\n",
       "      <td>-0.206010</td>\n",
       "      <td>0.502292</td>\n",
       "      <td>0.219422</td>\n",
       "      <td>0.215153</td>\n",
       "      <td>69.99</td>\n",
       "      <td>0</td>\n",
       "    </tr>\n",
       "  </tbody>\n",
       "</table>\n",
       "<p>5 rows × 31 columns</p>\n",
       "</div>"
      ],
      "text/plain": [
       "   Time        V1        V2        V3        V4        V5        V6        V7  \\\n",
       "0   0.0 -1.359807 -0.072781  2.536347  1.378155 -0.338321  0.462388  0.239599   \n",
       "1   0.0  1.191857  0.266151  0.166480  0.448154  0.060018 -0.082361 -0.078803   \n",
       "2   1.0 -1.358354 -1.340163  1.773209  0.379780 -0.503198  1.800499  0.791461   \n",
       "3   1.0 -0.966272 -0.185226  1.792993 -0.863291 -0.010309  1.247203  0.237609   \n",
       "4   2.0 -1.158233  0.877737  1.548718  0.403034 -0.407193  0.095921  0.592941   \n",
       "\n",
       "         V8        V9  ...         V21       V22       V23       V24  \\\n",
       "0  0.098698  0.363787  ...   -0.018307  0.277838 -0.110474  0.066928   \n",
       "1  0.085102 -0.255425  ...   -0.225775 -0.638672  0.101288 -0.339846   \n",
       "2  0.247676 -1.514654  ...    0.247998  0.771679  0.909412 -0.689281   \n",
       "3  0.377436 -1.387024  ...   -0.108300  0.005274 -0.190321 -1.175575   \n",
       "4 -0.270533  0.817739  ...   -0.009431  0.798278 -0.137458  0.141267   \n",
       "\n",
       "        V25       V26       V27       V28  Amount  Class  \n",
       "0  0.128539 -0.189115  0.133558 -0.021053  149.62      0  \n",
       "1  0.167170  0.125895 -0.008983  0.014724    2.69      0  \n",
       "2 -0.327642 -0.139097 -0.055353 -0.059752  378.66      0  \n",
       "3  0.647376 -0.221929  0.062723  0.061458  123.50      0  \n",
       "4 -0.206010  0.502292  0.219422  0.215153   69.99      0  \n",
       "\n",
       "[5 rows x 31 columns]"
      ]
     },
     "execution_count": 11,
     "metadata": {},
     "output_type": "execute_result"
    }
   ],
   "source": [
    "df.head()"
   ]
  },
  {
   "cell_type": "code",
   "execution_count": 13,
   "metadata": {},
   "outputs": [
    {
     "data": {
      "text/plain": [
       "Index(['Time', 'V1', 'V2', 'V3', 'V4', 'V5', 'V6', 'V7', 'V8', 'V9', 'V10',\n",
       "       'V11', 'V12', 'V13', 'V14', 'V15', 'V16', 'V17', 'V18', 'V19', 'V20',\n",
       "       'V21', 'V22', 'V23', 'V24', 'V25', 'V26', 'V27', 'V28', 'Amount',\n",
       "       'Class'],\n",
       "      dtype='object')"
      ]
     },
     "execution_count": 13,
     "metadata": {},
     "output_type": "execute_result"
    }
   ],
   "source": [
    "df.columns"
   ]
  },
  {
   "cell_type": "code",
   "execution_count": null,
   "metadata": {},
   "outputs": [],
   "source": []
  },
  {
   "cell_type": "code",
   "execution_count": 15,
   "metadata": {},
   "outputs": [
    {
     "data": {
      "text/plain": [
       "(284807, 31)"
      ]
     },
     "execution_count": 15,
     "metadata": {},
     "output_type": "execute_result"
    }
   ],
   "source": [
    "df.shape"
   ]
  },
  {
   "cell_type": "code",
   "execution_count": 16,
   "metadata": {},
   "outputs": [],
   "source": [
    "df = df.sample(frac = 0.1,random_state =1)"
   ]
  },
  {
   "cell_type": "code",
   "execution_count": 17,
   "metadata": {},
   "outputs": [
    {
     "data": {
      "text/plain": [
       "(28481, 31)"
      ]
     },
     "execution_count": 17,
     "metadata": {},
     "output_type": "execute_result"
    }
   ],
   "source": [
    "df.shape"
   ]
  },
  {
   "cell_type": "code",
   "execution_count": 18,
   "metadata": {},
   "outputs": [
    {
     "data": {
      "text/html": [
       "<div>\n",
       "<style scoped>\n",
       "    .dataframe tbody tr th:only-of-type {\n",
       "        vertical-align: middle;\n",
       "    }\n",
       "\n",
       "    .dataframe tbody tr th {\n",
       "        vertical-align: top;\n",
       "    }\n",
       "\n",
       "    .dataframe thead th {\n",
       "        text-align: right;\n",
       "    }\n",
       "</style>\n",
       "<table border=\"1\" class=\"dataframe\">\n",
       "  <thead>\n",
       "    <tr style=\"text-align: right;\">\n",
       "      <th></th>\n",
       "      <th>Time</th>\n",
       "      <th>V1</th>\n",
       "      <th>V2</th>\n",
       "      <th>V3</th>\n",
       "      <th>V4</th>\n",
       "      <th>V5</th>\n",
       "      <th>V6</th>\n",
       "      <th>V7</th>\n",
       "      <th>V8</th>\n",
       "      <th>V9</th>\n",
       "      <th>...</th>\n",
       "      <th>V21</th>\n",
       "      <th>V22</th>\n",
       "      <th>V23</th>\n",
       "      <th>V24</th>\n",
       "      <th>V25</th>\n",
       "      <th>V26</th>\n",
       "      <th>V27</th>\n",
       "      <th>V28</th>\n",
       "      <th>Amount</th>\n",
       "      <th>Class</th>\n",
       "    </tr>\n",
       "  </thead>\n",
       "  <tbody>\n",
       "    <tr>\n",
       "      <th>count</th>\n",
       "      <td>28481.000000</td>\n",
       "      <td>28481.000000</td>\n",
       "      <td>28481.000000</td>\n",
       "      <td>28481.000000</td>\n",
       "      <td>28481.000000</td>\n",
       "      <td>28481.000000</td>\n",
       "      <td>28481.000000</td>\n",
       "      <td>28481.000000</td>\n",
       "      <td>28481.000000</td>\n",
       "      <td>28481.000000</td>\n",
       "      <td>...</td>\n",
       "      <td>28481.000000</td>\n",
       "      <td>28481.000000</td>\n",
       "      <td>28481.000000</td>\n",
       "      <td>28481.000000</td>\n",
       "      <td>28481.000000</td>\n",
       "      <td>28481.000000</td>\n",
       "      <td>28481.000000</td>\n",
       "      <td>28481.000000</td>\n",
       "      <td>28481.000000</td>\n",
       "      <td>28481.000000</td>\n",
       "    </tr>\n",
       "    <tr>\n",
       "      <th>mean</th>\n",
       "      <td>94705.035216</td>\n",
       "      <td>-0.001143</td>\n",
       "      <td>-0.018290</td>\n",
       "      <td>0.000795</td>\n",
       "      <td>0.000350</td>\n",
       "      <td>-0.015666</td>\n",
       "      <td>0.003634</td>\n",
       "      <td>-0.008523</td>\n",
       "      <td>-0.003040</td>\n",
       "      <td>0.014536</td>\n",
       "      <td>...</td>\n",
       "      <td>0.004740</td>\n",
       "      <td>0.006719</td>\n",
       "      <td>-0.000494</td>\n",
       "      <td>-0.002626</td>\n",
       "      <td>-0.000917</td>\n",
       "      <td>0.004762</td>\n",
       "      <td>-0.001689</td>\n",
       "      <td>-0.004154</td>\n",
       "      <td>89.957884</td>\n",
       "      <td>0.001720</td>\n",
       "    </tr>\n",
       "    <tr>\n",
       "      <th>std</th>\n",
       "      <td>47584.727034</td>\n",
       "      <td>1.994661</td>\n",
       "      <td>1.709050</td>\n",
       "      <td>1.522313</td>\n",
       "      <td>1.420003</td>\n",
       "      <td>1.395552</td>\n",
       "      <td>1.334985</td>\n",
       "      <td>1.237249</td>\n",
       "      <td>1.204102</td>\n",
       "      <td>1.098006</td>\n",
       "      <td>...</td>\n",
       "      <td>0.744743</td>\n",
       "      <td>0.728209</td>\n",
       "      <td>0.645945</td>\n",
       "      <td>0.603968</td>\n",
       "      <td>0.520679</td>\n",
       "      <td>0.488171</td>\n",
       "      <td>0.418304</td>\n",
       "      <td>0.321646</td>\n",
       "      <td>270.894630</td>\n",
       "      <td>0.041443</td>\n",
       "    </tr>\n",
       "    <tr>\n",
       "      <th>min</th>\n",
       "      <td>0.000000</td>\n",
       "      <td>-40.470142</td>\n",
       "      <td>-63.344698</td>\n",
       "      <td>-31.813586</td>\n",
       "      <td>-5.266509</td>\n",
       "      <td>-42.147898</td>\n",
       "      <td>-19.996349</td>\n",
       "      <td>-22.291962</td>\n",
       "      <td>-33.785407</td>\n",
       "      <td>-8.739670</td>\n",
       "      <td>...</td>\n",
       "      <td>-16.640785</td>\n",
       "      <td>-10.933144</td>\n",
       "      <td>-30.269720</td>\n",
       "      <td>-2.752263</td>\n",
       "      <td>-7.025783</td>\n",
       "      <td>-2.534330</td>\n",
       "      <td>-8.260909</td>\n",
       "      <td>-9.617915</td>\n",
       "      <td>0.000000</td>\n",
       "      <td>0.000000</td>\n",
       "    </tr>\n",
       "    <tr>\n",
       "      <th>25%</th>\n",
       "      <td>53924.000000</td>\n",
       "      <td>-0.908809</td>\n",
       "      <td>-0.610322</td>\n",
       "      <td>-0.892884</td>\n",
       "      <td>-0.847370</td>\n",
       "      <td>-0.703986</td>\n",
       "      <td>-0.765807</td>\n",
       "      <td>-0.562033</td>\n",
       "      <td>-0.208445</td>\n",
       "      <td>-0.632488</td>\n",
       "      <td>...</td>\n",
       "      <td>-0.224842</td>\n",
       "      <td>-0.535877</td>\n",
       "      <td>-0.163047</td>\n",
       "      <td>-0.360582</td>\n",
       "      <td>-0.319611</td>\n",
       "      <td>-0.328476</td>\n",
       "      <td>-0.071712</td>\n",
       "      <td>-0.053379</td>\n",
       "      <td>5.980000</td>\n",
       "      <td>0.000000</td>\n",
       "    </tr>\n",
       "    <tr>\n",
       "      <th>50%</th>\n",
       "      <td>84551.000000</td>\n",
       "      <td>0.031139</td>\n",
       "      <td>0.051775</td>\n",
       "      <td>0.178943</td>\n",
       "      <td>-0.017692</td>\n",
       "      <td>-0.068037</td>\n",
       "      <td>-0.269071</td>\n",
       "      <td>0.028378</td>\n",
       "      <td>0.024696</td>\n",
       "      <td>-0.037100</td>\n",
       "      <td>...</td>\n",
       "      <td>-0.029075</td>\n",
       "      <td>0.014337</td>\n",
       "      <td>-0.012678</td>\n",
       "      <td>0.038383</td>\n",
       "      <td>0.015231</td>\n",
       "      <td>-0.049750</td>\n",
       "      <td>0.000914</td>\n",
       "      <td>0.010753</td>\n",
       "      <td>22.350000</td>\n",
       "      <td>0.000000</td>\n",
       "    </tr>\n",
       "    <tr>\n",
       "      <th>75%</th>\n",
       "      <td>139392.000000</td>\n",
       "      <td>1.320048</td>\n",
       "      <td>0.792685</td>\n",
       "      <td>1.035197</td>\n",
       "      <td>0.737312</td>\n",
       "      <td>0.603574</td>\n",
       "      <td>0.398839</td>\n",
       "      <td>0.559428</td>\n",
       "      <td>0.326057</td>\n",
       "      <td>0.621093</td>\n",
       "      <td>...</td>\n",
       "      <td>0.189068</td>\n",
       "      <td>0.533936</td>\n",
       "      <td>0.148065</td>\n",
       "      <td>0.434851</td>\n",
       "      <td>0.351466</td>\n",
       "      <td>0.253580</td>\n",
       "      <td>0.090329</td>\n",
       "      <td>0.076267</td>\n",
       "      <td>78.930000</td>\n",
       "      <td>0.000000</td>\n",
       "    </tr>\n",
       "    <tr>\n",
       "      <th>max</th>\n",
       "      <td>172784.000000</td>\n",
       "      <td>2.411499</td>\n",
       "      <td>17.418649</td>\n",
       "      <td>4.069865</td>\n",
       "      <td>16.715537</td>\n",
       "      <td>28.762671</td>\n",
       "      <td>22.529298</td>\n",
       "      <td>36.677268</td>\n",
       "      <td>19.587773</td>\n",
       "      <td>8.141560</td>\n",
       "      <td>...</td>\n",
       "      <td>22.588989</td>\n",
       "      <td>6.090514</td>\n",
       "      <td>15.626067</td>\n",
       "      <td>3.944520</td>\n",
       "      <td>5.541598</td>\n",
       "      <td>3.118588</td>\n",
       "      <td>11.135740</td>\n",
       "      <td>15.373170</td>\n",
       "      <td>19656.530000</td>\n",
       "      <td>1.000000</td>\n",
       "    </tr>\n",
       "  </tbody>\n",
       "</table>\n",
       "<p>8 rows × 31 columns</p>\n",
       "</div>"
      ],
      "text/plain": [
       "                Time            V1            V2            V3            V4  \\\n",
       "count   28481.000000  28481.000000  28481.000000  28481.000000  28481.000000   \n",
       "mean    94705.035216     -0.001143     -0.018290      0.000795      0.000350   \n",
       "std     47584.727034      1.994661      1.709050      1.522313      1.420003   \n",
       "min         0.000000    -40.470142    -63.344698    -31.813586     -5.266509   \n",
       "25%     53924.000000     -0.908809     -0.610322     -0.892884     -0.847370   \n",
       "50%     84551.000000      0.031139      0.051775      0.178943     -0.017692   \n",
       "75%    139392.000000      1.320048      0.792685      1.035197      0.737312   \n",
       "max    172784.000000      2.411499     17.418649      4.069865     16.715537   \n",
       "\n",
       "                 V5            V6            V7            V8            V9  \\\n",
       "count  28481.000000  28481.000000  28481.000000  28481.000000  28481.000000   \n",
       "mean      -0.015666      0.003634     -0.008523     -0.003040      0.014536   \n",
       "std        1.395552      1.334985      1.237249      1.204102      1.098006   \n",
       "min      -42.147898    -19.996349    -22.291962    -33.785407     -8.739670   \n",
       "25%       -0.703986     -0.765807     -0.562033     -0.208445     -0.632488   \n",
       "50%       -0.068037     -0.269071      0.028378      0.024696     -0.037100   \n",
       "75%        0.603574      0.398839      0.559428      0.326057      0.621093   \n",
       "max       28.762671     22.529298     36.677268     19.587773      8.141560   \n",
       "\n",
       "           ...                V21           V22           V23           V24  \\\n",
       "count      ...       28481.000000  28481.000000  28481.000000  28481.000000   \n",
       "mean       ...           0.004740      0.006719     -0.000494     -0.002626   \n",
       "std        ...           0.744743      0.728209      0.645945      0.603968   \n",
       "min        ...         -16.640785    -10.933144    -30.269720     -2.752263   \n",
       "25%        ...          -0.224842     -0.535877     -0.163047     -0.360582   \n",
       "50%        ...          -0.029075      0.014337     -0.012678      0.038383   \n",
       "75%        ...           0.189068      0.533936      0.148065      0.434851   \n",
       "max        ...          22.588989      6.090514     15.626067      3.944520   \n",
       "\n",
       "                V25           V26           V27           V28        Amount  \\\n",
       "count  28481.000000  28481.000000  28481.000000  28481.000000  28481.000000   \n",
       "mean      -0.000917      0.004762     -0.001689     -0.004154     89.957884   \n",
       "std        0.520679      0.488171      0.418304      0.321646    270.894630   \n",
       "min       -7.025783     -2.534330     -8.260909     -9.617915      0.000000   \n",
       "25%       -0.319611     -0.328476     -0.071712     -0.053379      5.980000   \n",
       "50%        0.015231     -0.049750      0.000914      0.010753     22.350000   \n",
       "75%        0.351466      0.253580      0.090329      0.076267     78.930000   \n",
       "max        5.541598      3.118588     11.135740     15.373170  19656.530000   \n",
       "\n",
       "              Class  \n",
       "count  28481.000000  \n",
       "mean       0.001720  \n",
       "std        0.041443  \n",
       "min        0.000000  \n",
       "25%        0.000000  \n",
       "50%        0.000000  \n",
       "75%        0.000000  \n",
       "max        1.000000  \n",
       "\n",
       "[8 rows x 31 columns]"
      ]
     },
     "execution_count": 18,
     "metadata": {},
     "output_type": "execute_result"
    }
   ],
   "source": [
    "df.describe()"
   ]
  },
  {
   "cell_type": "code",
   "execution_count": 21,
   "metadata": {},
   "outputs": [],
   "source": [
    "col_name = ['V1','V2']"
   ]
  },
  {
   "cell_type": "code",
   "execution_count": 24,
   "metadata": {},
   "outputs": [
    {
     "data": {
      "text/plain": [
       "array([[<matplotlib.axes._subplots.AxesSubplot object at 0x0C73B270>,\n",
       "        <matplotlib.axes._subplots.AxesSubplot object at 0x112466B0>,\n",
       "        <matplotlib.axes._subplots.AxesSubplot object at 0x11271990>,\n",
       "        <matplotlib.axes._subplots.AxesSubplot object at 0x112EFB70>,\n",
       "        <matplotlib.axes._subplots.AxesSubplot object at 0x11662CD0>,\n",
       "        <matplotlib.axes._subplots.AxesSubplot object at 0x11662CF0>],\n",
       "       [<matplotlib.axes._subplots.AxesSubplot object at 0x1167BE50>,\n",
       "        <matplotlib.axes._subplots.AxesSubplot object at 0x116BB110>,\n",
       "        <matplotlib.axes._subplots.AxesSubplot object at 0x116D6270>,\n",
       "        <matplotlib.axes._subplots.AxesSubplot object at 0x116F13D0>,\n",
       "        <matplotlib.axes._subplots.AxesSubplot object at 0x1170B4F0>,\n",
       "        <matplotlib.axes._subplots.AxesSubplot object at 0x11729650>],\n",
       "       [<matplotlib.axes._subplots.AxesSubplot object at 0x117417B0>,\n",
       "        <matplotlib.axes._subplots.AxesSubplot object at 0x1175E910>,\n",
       "        <matplotlib.axes._subplots.AxesSubplot object at 0x11779A70>,\n",
       "        <matplotlib.axes._subplots.AxesSubplot object at 0x11794BD0>,\n",
       "        <matplotlib.axes._subplots.AxesSubplot object at 0x117AFD30>,\n",
       "        <matplotlib.axes._subplots.AxesSubplot object at 0x117CBE90>],\n",
       "       [<matplotlib.axes._subplots.AxesSubplot object at 0x117E6FF0>,\n",
       "        <matplotlib.axes._subplots.AxesSubplot object at 0x1180B170>,\n",
       "        <matplotlib.axes._subplots.AxesSubplot object at 0x118252D0>,\n",
       "        <matplotlib.axes._subplots.AxesSubplot object at 0x11841430>,\n",
       "        <matplotlib.axes._subplots.AxesSubplot object at 0x119BB590>,\n",
       "        <matplotlib.axes._subplots.AxesSubplot object at 0x119D56F0>],\n",
       "       [<matplotlib.axes._subplots.AxesSubplot object at 0x119F2850>,\n",
       "        <matplotlib.axes._subplots.AxesSubplot object at 0x11A0E990>,\n",
       "        <matplotlib.axes._subplots.AxesSubplot object at 0x11A29AF0>,\n",
       "        <matplotlib.axes._subplots.AxesSubplot object at 0x11A43C50>,\n",
       "        <matplotlib.axes._subplots.AxesSubplot object at 0x11A60DB0>,\n",
       "        <matplotlib.axes._subplots.AxesSubplot object at 0x11A7AF10>],\n",
       "       [<matplotlib.axes._subplots.AxesSubplot object at 0x11AA1090>,\n",
       "        <matplotlib.axes._subplots.AxesSubplot object at 0x11ABA1F0>,\n",
       "        <matplotlib.axes._subplots.AxesSubplot object at 0x11AD5350>,\n",
       "        <matplotlib.axes._subplots.AxesSubplot object at 0x11AF04B0>,\n",
       "        <matplotlib.axes._subplots.AxesSubplot object at 0x11B0A610>,\n",
       "        <matplotlib.axes._subplots.AxesSubplot object at 0x11B26770>]],\n",
       "      dtype=object)"
      ]
     },
     "execution_count": 24,
     "metadata": {},
     "output_type": "execute_result"
    },
    {
     "data": {
      "image/png": "[encoded data removed]",
      "text/plain": [
       "<Figure size 1440x1440 with 36 Axes>"
      ]
     },
     "metadata": {},
     "output_type": "display_data"
    }
   ],
   "source": [
    "df.hist(edgecolor='black',linewidth = 1.2,figsize=(20,20))"
   ]
  },
  {
   "cell_type": "code",
   "execution_count": 26,
   "metadata": {},
   "outputs": [
    {
     "name": "stdout",
     "output_type": "stream",
     "text": [
      "49\n"
     ]
    }
   ],
   "source": [
    "fraud = df[df['Class']==1]\n",
    "print(len(fraud))"
   ]
  },
  {
   "cell_type": "code",
   "execution_count": 28,
   "metadata": {},
   "outputs": [
    {
     "name": "stdout",
     "output_type": "stream",
     "text": [
      "28432\n"
     ]
    }
   ],
   "source": [
    "valid = df[df['Class']==0]\n",
    "print(len(valid))"
   ]
  },
  {
   "cell_type": "code",
   "execution_count": 31,
   "metadata": {},
   "outputs": [
    {
     "name": "stdout",
     "output_type": "stream",
     "text": [
      "Fraud 49\n",
      "VAlid 28432\n"
     ]
    }
   ],
   "source": [
    "print(\"Fraud\",len(fraud))\n",
    "print(\"VAlid\",len(valid))"
   ]
  },
  {
   "cell_type": "code",
   "execution_count": 35,
   "metadata": {},
   "outputs": [
    {
     "data": {
      "text/plain": [
       "<matplotlib.axes._subplots.AxesSubplot at 0x134bedf0>"
      ]
     },
     "execution_count": 35,
     "metadata": {},
     "output_type": "execute_result"
    },
    {
     "data": {
      "image/png": "[encoded data removed]",
      "text/plain": [
       "<Figure size 432x288 with 2 Axes>"
      ]
     },
     "metadata": {},
     "output_type": "display_data"
    }
   ],
   "source": [
    "`sns.heatmap(corrmat)"
   ]
  },
  {
   "cell_type": "code",
   "execution_count": 38,
   "metadata": {},
   "outputs": [],
   "source": [
    "columns = df.columns.tolist()"
   ]
  },
  {
   "cell_type": "code",
   "execution_count": 40,
   "metadata": {},
   "outputs": [
    {
     "data": {
      "text/plain": [
       "(28481, 31)"
      ]
     },
     "execution_count": 40,
     "metadata": {},
     "output_type": "execute_result"
    }
   ],
   "source": [
    "df.shape"
   ]
  },
  {
   "cell_type": "code",
   "execution_count": 45,
   "metadata": {},
   "outputs": [],
   "source": [
    "X = df.iloc[:,:-1].values"
   ]
  },
  {
   "cell_type": "code",
   "execution_count": 43,
   "metadata": {},
   "outputs": [],
   "source": [
    "y = df[\"Class\"]"
   ]
  },
  {
   "cell_type": "code",
   "execution_count": 46,
   "metadata": {},
   "outputs": [
    {
     "data": {
      "text/plain": [
       "(28481, 30)"
      ]
     },
     "execution_count": 46,
     "metadata": {},
     "output_type": "execute_result"
    }
   ],
   "source": [
    "X.shape\n"
   ]
  },
  {
   "cell_type": "code",
   "execution_count": 48,
   "metadata": {},
   "outputs": [
    {
     "data": {
      "text/plain": [
       "(28481,)"
      ]
     },
     "execution_count": 48,
     "metadata": {},
     "output_type": "execute_result"
    }
   ],
   "source": [
    "y.shape"
   ]
  },
  {
   "cell_type": "code",
   "execution_count": 52,
   "metadata": {},
   "outputs": [
    {
     "data": {
      "text/plain": [
       "RandomForestClassifier(bootstrap=True, class_weight=None, criterion='entropy',\n",
       "            max_depth=None, max_features='auto', max_leaf_nodes=None,\n",
       "            min_impurity_decrease=0.0, min_impurity_split=None,\n",
       "            min_samples_leaf=1, min_samples_split=2,\n",
       "            min_weight_fraction_leaf=0.0, n_estimators=10, n_jobs=1,\n",
       "            oob_score=False, random_state=0, verbose=0, warm_start=False)"
      ]
     },
     "execution_count": 52,
     "metadata": {},
     "output_type": "execute_result"
    }
   ],
   "source": [
    "from sklearn.ensemble import RandomForestClassifier \n",
    "classifier = RandomForestClassifier(n_estimators=10,criterion ='entropy',random_state = 0)\n",
    "classifier.fit(X,y)"
   ]
  },
  {
   "cell_type": "code",
   "execution_count": 53,
   "metadata": {},
   "outputs": [],
   "source": [
    "y_pred = classifier.predict(X)"
   ]
  },
  {
   "cell_type": "code",
   "execution_count": 56,
   "metadata": {},
   "outputs": [],
   "source": [
    "from sklearn.metrics import confusion_matrix\n",
    "cm= confusion_matrix(y_pred,y)"
   ]
  },
  {
   "cell_type": "code",
   "execution_count": 57,
   "metadata": {},
   "outputs": [
    {
     "name": "stdout",
     "output_type": "stream",
     "text": [
      "[[28432     5]\n",
      " [    0    44]]\n"
     ]
    }
   ],
   "source": [
    "print(cm)"
   ]
  },
  {
   "cell_type": "code",
   "execution_count": 58,
   "metadata": {},
   "outputs": [
    {
     "name": "stdout",
     "output_type": "stream",
     "text": [
      "[0 0 0 ... 0 0 0]\n"
     ]
    }
   ],
   "source": [
    "print(y_pred)"
   ]
  },
  {
   "cell_type": "code",
   "execution_count": 59,
   "metadata": {},
   "outputs": [
    {
     "data": {
      "text/plain": [
       "(28481,)"
      ]
     },
     "execution_count": 59,
     "metadata": {},
     "output_type": "execute_result"
    }
   ],
   "source": [
    "y_pred.shape"
   ]
  },
  {
   "cell_type": "code",
   "execution_count": null,
   "metadata": {},
   "outputs": [],
   "source": []
  },
  {
   "cell_type": "code",
   "execution_count": 62,
   "metadata": {},
   "outputs": [
    {
     "name": "stdout",
     "output_type": "stream",
     "text": [
      "0.9998244443664197\n"
     ]
    }
   ],
   "source": [
    "from sklearn.metrics import accuracy_score\n",
    "print(accuracy_score(y,y_pred))"
   ]
  }
 ],
 "metadata": {
  "kernelspec": {
   "display_name": "Python 3",
   "language": "python",
   "name": "python3"
  },
  "language_info": {
   "codemirror_mode": {
    "name": "ipython",
    "version": 3
   },
   "file_extension": ".py",
   "mimetype": "text/x-python",
   "name": "python",
   "nbconvert_exporter": "python",
   "pygments_lexer": "ipython3",
   "version": "3.6.5"
  }
 },
 "nbformat": 4,
 "nbformat_minor": 2
}
